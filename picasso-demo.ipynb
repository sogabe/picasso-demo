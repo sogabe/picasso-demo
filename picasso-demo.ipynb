{
 "cells": [
  {
   "cell_type": "markdown",
   "metadata": {},
   "source": [
    "# Picasso Demo\n",
    "\n",
    "## Reference (Picasso):\n",
    "* https://wiki.openstack.org/wiki/Picasso\n",
    "* https://github.com/openstack/picasso/blob/master/devstack/README.md\n",
    "\n",
    "## Reference (Iron.io):\n",
    "* https://github.com/iron-io/functions\n",
    "\n",
    "## Prerequisite:\n",
    "- Vagrant\n",
    "- devstack\n",
    "\n",
    "Example configuration of Vagrantfile:\n",
    "\n",
    "```:Vagrantfile\n",
    "Vagrant.configure(\"2\") do |config|\n",
    "  config.vm.box = \"ubuntu/xenial64\"\n",
    "\n",
    "  # config.vm.box_check_update = false\n",
    "\n",
    "  config.vm.network \"forwarded_port\", guest: 80, host: 8080\n",
    "  config.vm.network \"forwarded_port\", guest: 8888, host: 18888\n",
    "\n",
    "  config.vm.network \"private_network\", ip: \"192.168.33.10\"\n",
    "\n",
    "  config.vm.provider \"virtualbox\" do |vb|\n",
    "  #   # Display the VirtualBox GUI when booting the machine\n",
    "  #   vb.gui = true\n",
    "  #\n",
    "  #   # Customize the amount of memory on the VM:\n",
    "    vb.memory = \"8192\"\n",
    "  end\n",
    "end\n",
    "```\n",
    "\n",
    "### Install glide, devstack and picasso\n",
    "\n",
    "Download devstack.\n",
    "\n",
    "```\n",
    "sudo yum install -y git glide\n",
    "sudo env GOPATH=/usr/local/go/bin go get -u github.com/golang/dep/...\n",
    "export DEVSTACK_DIR=~/devstack\n",
    "cd ~\n",
    "git clone git://git.openstack.org/openstack-dev/devstack.git $DEVSTACK_DIR\n",
    "cd devstack\n",
    "cp samples/local.conf ./\n",
    "```\n",
    "\n",
    "As a next step, edit local.conf as follows.\n",
    "\n",
    "Note: You have to enable aodh and ceilometer to confirm alarm notification.\n",
    "\n",
    "```\n",
    "HOST_IP=192.168.33.10\n",
    "\n",
    "enable_plugin aodh https://git.openstack.org/openstack/aodh\n",
    "enable_plugin picasso https://github.com/openstack/picasso.git\n",
    "\n",
    "CEILOMETER_BACKEND=mongodb\n",
    "enable_plugin ceilometer https://git.openstack.org/openstack/ceilometer\n",
    "\n",
    "# Picasso configuration\n",
    "PICASSO_REPO=${PICASSO_REPO:-https://github.com/openstack/picasso.git}\n",
    "PICASSO_BRANCH=${PICASSO_BRANCH:-master}\n",
    "PICASSO_DIR=${PICASSO_DIR:-${DEST}/picasso}\n",
    "PICASSO_PORT=${PICASSO_PORT:-10001}\n",
    "PICASSO_LOG_LEVEL=${PICASSO_LOG_LEVEL:-DEBUG}\n",
    "PICASSO_LOG_FILE=${PICASSO_LOG_FILE:-/var/log/picasso-api.log}\n",
    "\n",
    "# Picasso client configuration\n",
    "PICASSO_CLIENT_REPO=${PICASSO_CLIENT_REPO:-https://github.com/openstack/python-picassoclient.git}\n",
    "PICASSO_CLIENT_DIR=${PICASSO_CLIENT_DIR:-${DEST}/python-picassoclient}\n",
    "PICASSO_CLIENT_BRANCH=${PICASSO_CLIENT_BRANCH:-master}\n",
    "\n",
    "# Functions parameters\n",
    "FUNCTIONS_REPO=${FUNCTIONS_REPO:-https://github.com/iron-io/functions.git}\n",
    "FUNCTIONS_BRANCH=${FUNCTIONS_BRANCH:-master}\n",
    "FUNCTIONS_PORT=${FUNCTIONS_PORT:-10501}\n",
    "FUNCTIONS_DB=${FUNCTIONS_DBPATH:-bolt://$FUNCTIONS_DIR/devstack.functions.storage.db?bucket=funcs}\n",
    "FUNCTIONS_MQ=${FUNCTIONS_DBPATH:-bolt://$FUNCTIONS_DIR/devstack.functions.queue.db}\n",
    "FUNCTIONS_LOG_LEVEL=${FUNCTIONS_LOG_LEVEL:-DEBUG}\n",
    "\n",
    "DOCKERD_OPTS=${DOCKERD_OPTS:---dns 8.8.8.8 --dns 8.8.4.4 --storage-driver=devicemapper -H fd://}\n",
    "```\n",
    "\n",
    "Then, invoke stack.sh\n",
    "\n",
    "```\n",
    "./stack.sh\n",
    "```\n",
    "\n",
    "## Known Issues\n",
    "In CentOS7.2 environment, some of Docker options are not supported for now.\n",
    "You might be change a systemd configuration (/usr/lib/systemd/system/docker.service) as follows.\n",
    "\n",
    "```\n",
    "[Unit]\n",
    "Description=Docker Application Container Engine\n",
    "Documentation=https://docs.docker.com\n",
    "After=network.target docker.socket\n",
    "#Requires=docker.socket\n",
    "\n",
    "[Service]\n",
    "Type=notify\n",
    "Environment=SERVICE_HOST=127.0.0.1\n",
    "ExecStart=/usr/bin/dockerd -H 0.0.0.0:2375 --dns 8.8.8.8 --dns 8.8.4.4 --storage-driver=devicemapper\n",
    "MountFlags=slave\n",
    "LimitNOFILE=1048576\n",
    "LimitNPROC=1048576\n",
    "LimitCORE=infinity\n",
    "TimeoutStartSec=0\n",
    "Delegate=yes\n",
    "\n",
    "[Install]\n",
    "WantedBy=multi-user.target\n",
    "```"
   ]
  },
  {
   "cell_type": "code",
   "execution_count": 1,
   "metadata": {},
   "outputs": [
    {
     "name": "stdout",
     "output_type": "stream",
     "text": [
      "WARNING: setting legacy OS_TENANT_NAME to support cli tools.\n"
     ]
    }
   ],
   "source": [
    "source ~/devstack/openrc"
   ]
  },
  {
   "cell_type": "code",
   "execution_count": 2,
   "metadata": {},
   "outputs": [
    {
     "name": "stdout",
     "output_type": "stream",
     "text": [
      "\n"
     ]
    }
   ],
   "source": [
    "openstack fn apps list"
   ]
  },
  {
   "cell_type": "code",
   "execution_count": 3,
   "metadata": {},
   "outputs": [
    {
     "name": "stdout",
     "output_type": "stream",
     "text": [
      "+-------------+--------------------------------------------------+\n",
      "| Field       | Value                                            |\n",
      "+-------------+--------------------------------------------------+\n",
      "| description | App for project 5811d3471a5742878fb7869bd57d4b9a |\n",
      "| created_at  | 2017-03-09 03:25:02.737626                       |\n",
      "| updated_at  | 2017-03-09 03:25:02.737652                       |\n",
      "| project_id  | 5811d3471a5742878fb7869bd57d4b9a                 |\n",
      "| config      | None                                             |\n",
      "| id          | 6e034fea178c4cfaad511632b4a00f4c                 |\n",
      "| name        | alarm-notifier-app-5811d3471a5                   |\n",
      "+-------------+--------------------------------------------------+\n",
      "alarm-notifier-app-5811d3471a5\n"
     ]
    }
   ],
   "source": [
    "openstack fn apps create alarm-notifier-app\n",
    "func_name=`openstack fn apps list | grep alarm-notifier-app | awk '{print $2}'`\n",
    "echo $func_name"
   ]
  },
  {
   "cell_type": "code",
   "execution_count": 4,
   "metadata": {},
   "outputs": [
    {
     "name": "stdout",
     "output_type": "stream",
     "text": [
      "+-----------------+------------+\n",
      "| Field           | Value      |\n",
      "+-----------------+------------+\n",
      "| image           | iron/hello |\n",
      "| memory          | 128        |\n",
      "| max_concurrency | 1          |\n",
      "| timeout         | 30         |\n",
      "| path            | /hello     |\n",
      "| is_public       | True       |\n",
      "| type            | async      |\n",
      "+-----------------+------------+\n"
     ]
    }
   ],
   "source": [
    "openstack fn routes create $func_name /hello async iron/hello --is-public"
   ]
  },
  {
   "cell_type": "code",
   "execution_count": 5,
   "metadata": {},
   "outputs": [
    {
     "name": "stdout",
     "output_type": "stream",
     "text": [
      "/usr/lib/python2.7/site-packages/novaclient/client.py:278: UserWarning: The 'tenant_id' argument is deprecated in Ocata and its use may result in errors in future releases. As 'project_id' is provided, the 'tenant_id' argument will be ignored.\n",
      "  warnings.warn(msg)\n",
      "+--------------------------------------+-----------------------------------------------------------------+\n",
      "| Property                             | Value                                                           |\n",
      "+--------------------------------------+-----------------------------------------------------------------+\n",
      "| OS-DCF:diskConfig                    | MANUAL                                                          |\n",
      "| OS-EXT-AZ:availability_zone          |                                                                 |\n",
      "| OS-EXT-STS:power_state               | 0                                                               |\n",
      "| OS-EXT-STS:task_state                | scheduling                                                      |\n",
      "| OS-EXT-STS:vm_state                  | building                                                        |\n",
      "| OS-SRV-USG:launched_at               | -                                                               |\n",
      "| OS-SRV-USG:terminated_at             | -                                                               |\n",
      "| accessIPv4                           |                                                                 |\n",
      "| accessIPv6                           |                                                                 |\n",
      "| adminPass                            | aJ68TbNofH68                                                    |\n",
      "| config_drive                         |                                                                 |\n",
      "| created                              | 2017-03-09T03:25:25Z                                            |\n",
      "| description                          | -                                                               |\n",
      "| flavor                               | m1.nano (42)                                                    |\n",
      "| hostId                               |                                                                 |\n",
      "| id                                   | b1e62c47-716f-49d9-9c09-94c98b8e2c35                            |\n",
      "| image                                | cirros-0.3.5-x86_64-disk (38704537-b11d-433b-9fcb-3dcb9f4e3ca4) |\n",
      "| key_name                             | -                                                               |\n",
      "| locked                               | False                                                           |\n",
      "| metadata                             | {}                                                              |\n",
      "| name                                 | test_alarms                                                     |\n",
      "| os-extended-volumes:volumes_attached | []                                                              |\n",
      "| progress                             | 0                                                               |\n",
      "| security_groups                      | default                                                         |\n",
      "| status                               | BUILD                                                           |\n",
      "| tags                                 | []                                                              |\n",
      "| tenant_id                            | 5811d3471a5742878fb7869bd57d4b9a                                |\n",
      "| updated                              | 2017-03-09T03:25:25Z                                            |\n",
      "| user_id                              | adf5021bfb414c449be85378003d2e7f                                |\n",
      "+--------------------------------------+-----------------------------------------------------------------+\n"
     ]
    }
   ],
   "source": [
    "nova boot --image $(glance image-list | awk '/cirros-0.3.5-x86_64-disk / {print $2}') --flavor 42 test_alarms"
   ]
  },
  {
   "cell_type": "code",
   "execution_count": 6,
   "metadata": {},
   "outputs": [
    {
     "name": "stdout",
     "output_type": "stream",
     "text": [
      "/usr/lib/python2.7/site-packages/novaclient/client.py:278: UserWarning: The 'tenant_id' argument is deprecated in Ocata and its use may result in errors in future releases. As 'project_id' is provided, the 'tenant_id' argument will be ignored.\n",
      "  warnings.warn(msg)\n",
      "+---------------------------+--------------------------------------------------+\n",
      "| Field                     | Value                                            |\n",
      "+---------------------------+--------------------------------------------------+\n",
      "| alarm_actions             | [u'http://172.21.78.153:10001/r/alarm-notifier-  |\n",
      "|                           | app-5811d3471a5/hello']                          |\n",
      "| alarm_id                  | 4bb27260-613d-4075-b216-6eb28c1b6499             |\n",
      "| comparison_operator       | gt                                               |\n",
      "| description               | instance running hot                             |\n",
      "| enabled                   | True                                             |\n",
      "| evaluation_periods        | 1                                                |\n",
      "| exclude_outliers          | False                                            |\n",
      "| insufficient_data_actions | []                                               |\n",
      "| meter_name                | cpu_util                                         |\n",
      "| name                      | cpu_high                                         |\n",
      "| ok_actions                | []                                               |\n",
      "| period                    | 600                                              |\n",
      "| project_id                | 5811d3471a5742878fb7869bd57d4b9a                 |\n",
      "| query                     | resource_id = b1e62c47-716f-                     |\n",
      "|                           | 49d9-9c09-94c98b8e2c35 AND                       |\n",
      "|                           | project_id = 5811d3471a5742878fb7869bd57d4b9a    |\n",
      "| repeat_actions            | False                                            |\n",
      "| severity                  | low                                              |\n",
      "| state                     | insufficient data                                |\n",
      "| state_timestamp           | 2017-03-09T03:26:13.345273                       |\n",
      "| statistic                 | max                                              |\n",
      "| threshold                 | 20.0                                             |\n",
      "| time_constraints          | []                                               |\n",
      "| timestamp                 | 2017-03-09T03:26:13.345273                       |\n",
      "| type                      | threshold                                        |\n",
      "| user_id                   | adf5021bfb414c449be85378003d2e7f                 |\n",
      "+---------------------------+--------------------------------------------------+\n"
     ]
    }
   ],
   "source": [
    "aodh alarm create \\\n",
    "    --type threshold \\\n",
    "    --name cpu_high \\\n",
    "    --description 'instance running hot' \\\n",
    "    --meter-name cpu_util \\\n",
    "    --threshold 20.0 \\\n",
    "    --comparison-operator gt \\\n",
    "    --statistic max \\\n",
    "    --period 600 \\\n",
    "    --evaluation-periods 1 \\\n",
    "    --alarm-action $(openstack fn routes expose-url $func_name /hello) \\\n",
    "    --query resource_id=$(nova list | grep test_alarms | awk '{print $2}')"
   ]
  },
  {
   "cell_type": "markdown",
   "metadata": {
    "collapsed": true
   },
   "source": [
    "# Place a load on the instance\n",
    "\n",
    "As a first step, log in to the instance.\n",
    "\n",
    "Then, invoke dd command so that aodh alarm is going to be fired.\n",
    "\n",
    "```\n",
    "openstack security group rule create default --protocol icmp --remote-ip 0.0.0.0/0\n",
    "openstack security group rule create default --protocol tcp --dst-port 22:22 --remote-ip 0.0.0.0/0\n",
    "\n",
    "ns_rq=`ip netns show | grep qrouter`\n",
    "sudo ip netns exec $ns_rq bash\n",
    "ssh cirros@10.0.0.8\n",
    "dd if=/dev/zero of=/dev/null\n",
    "```"
   ]
  },
  {
   "cell_type": "code",
   "execution_count": 8,
   "metadata": {},
   "outputs": [
    {
     "name": "stdout",
     "output_type": "stream",
     "text": [
      "+-------------------+-------------------+------------------+-------------------+\n",
      "| alarm_id          | timestamp         | type             | detail            |\n",
      "+-------------------+-------------------+------------------+-------------------+\n",
      "| 4bb27260-613d-407 | 2017-03-09T03:50: | state transition | {\"transition_reas |\n",
      "| 5-b216-6eb28c1b64 | 09.093737         |                  | on\": \"Transition  |\n",
      "| 99                |                   |                  | to alarm due to 1 |\n",
      "|                   |                   |                  | samples outside   |\n",
      "|                   |                   |                  | threshold, most   |\n",
      "|                   |                   |                  | recent:           |\n",
      "|                   |                   |                  | 99.5579193086\",   |\n",
      "|                   |                   |                  | \"state\": \"alarm\"} |\n",
      "| 4bb27260-613d-407 | 2017-03-09T03:26: | creation         | {\"alarm_actions\": |\n",
      "| 5-b216-6eb28c1b64 | 13.345273         |                  | [\"http://172.21.7 |\n",
      "| 99                |                   |                  | 8.153:10001/r     |\n",
      "|                   |                   |                  | /alarm-notifier-  |\n",
      "|                   |                   |                  | app-5811d3471a5/h |\n",
      "|                   |                   |                  | ello\"],           |\n",
      "|                   |                   |                  | \"user_id\": \"adf50 |\n",
      "|                   |                   |                  | 21bfb414c449be853 |\n",
      "|                   |                   |                  | 78003d2e7f\",      |\n",
      "|                   |                   |                  | \"name\":           |\n",
      "|                   |                   |                  | \"cpu_high\",       |\n",
      "|                   |                   |                  | \"state\":          |\n",
      "|                   |                   |                  | \"insufficient     |\n",
      "|                   |                   |                  | data\",            |\n",
      "|                   |                   |                  | \"timestamp\": \"201 |\n",
      "|                   |                   |                  | 7-03-09T03:26:13. |\n",
      "|                   |                   |                  | 345273\",          |\n",
      "|                   |                   |                  | \"description\":    |\n",
      "|                   |                   |                  | \"instance running |\n",
      "|                   |                   |                  | hot\", \"enabled\":  |\n",
      "|                   |                   |                  | true, \"state_time |\n",
      "|                   |                   |                  | stamp\": \"2017-03- |\n",
      "|                   |                   |                  | 09T03:26:13.34527 |\n",
      "|                   |                   |                  | 3\", \"rule\":       |\n",
      "|                   |                   |                  | {\"meter_name\":    |\n",
      "|                   |                   |                  | \"cpu_util\", \"eval |\n",
      "|                   |                   |                  | uation_periods\":  |\n",
      "|                   |                   |                  | 1, \"period\": 600, |\n",
      "|                   |                   |                  | \"statistic\":      |\n",
      "|                   |                   |                  | \"max\",            |\n",
      "|                   |                   |                  | \"threshold\":      |\n",
      "|                   |                   |                  | 20.0, \"query\":    |\n",
      "|                   |                   |                  | [{\"field\":        |\n",
      "|                   |                   |                  | \"resource_id\",    |\n",
      "|                   |                   |                  | \"type\": \"\",       |\n",
      "|                   |                   |                  | \"value\":          |\n",
      "|                   |                   |                  | \"b1e62c47-716f-49 |\n",
      "|                   |                   |                  | d9-9c09-94c98b8e2 |\n",
      "|                   |                   |                  | c35\", \"op\":       |\n",
      "|                   |                   |                  | \"eq\"}, {\"field\":  |\n",
      "|                   |                   |                  | \"project_id\",     |\n",
      "|                   |                   |                  | \"value\": \"5811d34 |\n",
      "|                   |                   |                  | 71a5742878fb7869b |\n",
      "|                   |                   |                  | d57d4b9a\", \"op\":  |\n",
      "|                   |                   |                  | \"eq\"}], \"comparis |\n",
      "|                   |                   |                  | on_operator\":     |\n",
      "|                   |                   |                  | \"gt\", \"exclude_ou |\n",
      "|                   |                   |                  | tliers\": false},  |\n",
      "|                   |                   |                  | \"alarm_id\": \"4bb2 |\n",
      "|                   |                   |                  | 7260-613d-4075-b2 |\n",
      "|                   |                   |                  | 16-6eb28c1b6499\", |\n",
      "|                   |                   |                  | \"time_constraints |\n",
      "|                   |                   |                  | \": [], \"insuffici |\n",
      "|                   |                   |                  | ent_data_actions\" |\n",
      "|                   |                   |                  | : [],             |\n",
      "|                   |                   |                  | \"repeat_actions\": |\n",
      "|                   |                   |                  | false,            |\n",
      "|                   |                   |                  | \"ok_actions\": [], |\n",
      "|                   |                   |                  | \"project_id\": \"58 |\n",
      "|                   |                   |                  | 11d3471a5742878fb |\n",
      "|                   |                   |                  | 7869bd57d4b9a\",   |\n",
      "|                   |                   |                  | \"type\":           |\n",
      "|                   |                   |                  | \"threshold\",      |\n",
      "|                   |                   |                  | \"severity\":       |\n",
      "|                   |                   |                  | \"low\"}            |\n",
      "+-------------------+-------------------+------------------+-------------------+\n"
     ]
    }
   ],
   "source": [
    "aodh alarm-history search"
   ]
  },
  {
   "cell_type": "markdown",
   "metadata": {},
   "source": [
    "## How to check log of execution\n",
    "\n",
    "It seems that Iron.io does not support convenient way to check execution history so far.\n",
    "You can track history on syslog."
   ]
  },
  {
   "cell_type": "code",
   "execution_count": 9,
   "metadata": {},
   "outputs": [
    {
     "name": "stdout",
     "output_type": "stream",
     "text": [
      "Mar  9 12:50:09 kvm526 \u001b[01;31m\u001b[Kfunctions:\u001b[m\u001b[K time=\"2017-03-09T12:50:09+09:00\" level=debug msg=\"Finding route on datastore\" action=\"server.handleRunnerRequest)-fm\" app=alarm-notifier-app-5811d3471a5 call_id=910c28b4-1d3c-5c6e-b6c8-1b2d5a43df29 path=\"/hello\" route=\"/hello\"\n",
      "Mar  9 12:50:09 kvm526 \u001b[01;31m\u001b[Kfunctions:\u001b[m\u001b[K time=\"2017-03-09T12:50:09+09:00\" level=debug msg=\"Got routes from datastore\" action=\"server.handleRunnerRequest)-fm\" app=alarm-notifier-app-5811d3471a5 call_id=910c28b4-1d3c-5c6e-b6c8-1b2d5a43df29 route=\"/hello\" routes=1\n",
      "Mar  9 12:50:09 kvm526 \u001b[01;31m\u001b[Kfunctions:\u001b[m\u001b[K time=\"2017-03-09T12:50:09+09:00\" level=info msg=\"Pushed to MQ\" call_id=910c28b4-1d3c-5c6e-b6c8-1b2d5a43df29\n",
      "Mar  9 12:50:09 kvm526 \u001b[01;31m\u001b[Kfunctions:\u001b[m\u001b[K time=\"2017-03-09T12:50:09+09:00\" level=info msg=\"Added new task to queue\" action=\"server.handleRunnerRequest)-fm\" app=alarm-notifier-app-5811d3471a5 call_id=910c28b4-1d3c-5c6e-b6c8-1b2d5a43df29 image=\"iron/hello\" route=\"/hello\"\n",
      "Mar  9 12:50:09 kvm526 \u001b[01;31m\u001b[Kfunctions:\u001b[m\u001b[K time=\"2017-03-09T12:50:09+09:00\" level=info msg=Reserved call_id=910c28b4-1d3c-5c6e-b6c8-1b2d5a43df29\n",
      "Mar  9 12:50:09 kvm526 \u001b[01;31m\u001b[Kfunctions:\u001b[m\u001b[K time=\"2017-03-09T12:50:09+09:00\" level=debug msg=\"Running task:910c28b4-1d3c-5c6e-b6c8-1b2d5a43df29\" call_id=910c28b4-1d3c-5c6e-b6c8-1b2d5a43df29 runner=async\n",
      "Mar  9 12:50:09 kvm526 \u001b[01;31m\u001b[Kfunctions:\u001b[m\u001b[K time=\"2017-03-09T12:50:09+09:00\" level=debug msg=\"Processed task\" call_id=910c28b4-1d3c-5c6e-b6c8-1b2d5a43df29 runner=async\n",
      "Mar  9 12:50:09 kvm526 \u001b[01;31m\u001b[Kfunctions:\u001b[m\u001b[K time=\"2017-03-09T12:50:09+09:00\" level=info call_id=910c28b4-1d3c-5c6e-b6c8-1b2d5a43df29 name=run.alarm-notifier-app-5811d3471a5.requests runner=async type=count value=1\n",
      "Mar  9 12:50:09 kvm526 \u001b[01;31m\u001b[Kfunctions:\u001b[m\u001b[K time=\"2017-03-09T12:50:09+09:00\" level=info call_id=910c28b4-1d3c-5c6e-b6c8-1b2d5a43df29 name=run.alarm-notifier-app-5811d3471a5.waittime runner=async type=time value=0s\n",
      "Mar  9 12:50:09 kvm526 \u001b[01;31m\u001b[Kfunctions:\u001b[m\u001b[K time=\"2017-03-09T12:50:09+09:00\" level=info msg=Deleted call_id=910c28b4-1d3c-5c6e-b6c8-1b2d5a43df29\n",
      "Mar  9 12:50:09 kvm526 \u001b[01;31m\u001b[Kfunctions:\u001b[m\u001b[K time=\"2017-03-09T12:50:09+09:00\" level=info msg=\"Task complete\" call_id=910c28b4-1d3c-5c6e-b6c8-1b2d5a43df29 runner=async\n",
      "Mar  9 12:50:10 kvm526 \u001b[01;31m\u001b[Kfunctions:\u001b[m\u001b[K time=\"2017-03-09T12:50:10+09:00\" level=debug msg=\"Starting container execution\" call_id=910c28b4-1d3c-5c6e-b6c8-1b2d5a43df29 container=task-1489031409650041560-910c28b4-1d3c-5c6e-b6c8-1b2d5a43df29 runner=async\n",
      "Mar  9 12:50:11 kvm526 \u001b[01;31m\u001b[Kfunctions:\u001b[m\u001b[K time=\"2017-03-09T12:50:11+09:00\" level=info msg=\"Hello World!\" app_name=alarm-notifier-app-5811d3471a5 call_id=910c28b4-1d3c-5c6e-b6c8-1b2d5a43df29 image=\"iron/hello\" path= runner=async user_log=true\n",
      "Mar  9 12:50:11 kvm526 \u001b[01;31m\u001b[Kfunctions:\u001b[m\u001b[K time=\"2017-03-09T12:50:11+09:00\" level=info msg=\"container status\" call_id=910c28b4-1d3c-5c6e-b6c8-1b2d5a43df29 container_error= container_finished=2017-03-09 03:50:11.076920249 +0000 UTC container_running=false container_status=exited exit_code=0 runner=async\n",
      "Mar  9 12:50:11 kvm526 \u001b[01;31m\u001b[Kfunctions:\u001b[m\u001b[K time=\"2017-03-09T12:50:11+09:00\" level=info call_id=910c28b4-1d3c-5c6e-b6c8-1b2d5a43df29 name=run.alarm-notifier-app-5811d3471a5.succeeded runner=async type=count value=1\n",
      "Mar  9 12:50:11 kvm526 \u001b[01;31m\u001b[Kfunctions:\u001b[m\u001b[K time=\"2017-03-09T12:50:11+09:00\" level=info call_id=910c28b4-1d3c-5c6e-b6c8-1b2d5a43df29 name=run.alarm-notifier-app-5811d3471a5.time runner=async type=time value=1.338170762s\n",
      "Mar  9 12:50:11 kvm526 \u001b[01;31m\u001b[Kfunctions:\u001b[m\u001b[K time=\"2017-03-09T12:50:11+09:00\" level=info call_id=910c28b4-1d3c-5c6e-b6c8-1b2d5a43df29 name=\"run.exec_time\" runner=async type=time value=1.338170762s\n"
     ]
    }
   ],
   "source": [
    "sudo grep \"Mar  9 12:50\" /var/log/messages  | grep functions:"
   ]
  },
  {
   "cell_type": "markdown",
   "metadata": {},
   "source": [
    "## How to display apps / routes by using openstack CLI"
   ]
  },
  {
   "cell_type": "code",
   "execution_count": 10,
   "metadata": {},
   "outputs": [
    {
     "name": "stdout",
     "output_type": "stream",
     "text": [
      "+-------+--------+----------+--------+---------+-----------------+-----------+--------+\n",
      "| type  | path   | image    | memory | timeout | max_concurrency | is_public | config |\n",
      "+-------+--------+----------+--------+---------+-----------------+-----------+--------+\n",
      "| async | /hello | iron/hel |    128 |      30 |               1 | True      |        |\n",
      "|       |        | lo       |        |         |                 |           |        |\n",
      "+-------+--------+----------+--------+---------+-----------------+-----------+--------+\n"
     ]
    }
   ],
   "source": [
    "openstack fn routes list $func_name"
   ]
  },
  {
   "cell_type": "code",
   "execution_count": 11,
   "metadata": {},
   "outputs": [
    {
     "name": "stdout",
     "output_type": "stream",
     "text": [
      "+-----------------+------------+\n",
      "| Field           | Value      |\n",
      "+-----------------+------------+\n",
      "| image           | iron/hello |\n",
      "| memory          | 128        |\n",
      "| max_concurrency | 1          |\n",
      "| timeout         | 30         |\n",
      "| path            | /hello     |\n",
      "| is_public       | True       |\n",
      "| type            | async      |\n",
      "+-----------------+------------+\n"
     ]
    }
   ],
   "source": [
    "openstack fn routes show $func_name /hello"
   ]
  },
  {
   "cell_type": "markdown",
   "metadata": {},
   "source": [
    "## How to display apps / routes by using iron.io CLI\n",
    "\n",
    "Operators can also be accessd to iron.io via native API or fn-CLI directly.\n",
    "\n",
    "To install 'fn' command, invoke following url.\n",
    "```\n",
    "curl -LSs https://goo.gl/VZrL8t | sh\n",
    "```"
   ]
  },
  {
   "cell_type": "code",
   "execution_count": 12,
   "metadata": {
    "collapsed": true
   },
   "outputs": [],
   "source": [
    "export API_URL=http://localhost:10501"
   ]
  },
  {
   "cell_type": "code",
   "execution_count": 13,
   "metadata": {},
   "outputs": [
    {
     "name": "stdout",
     "output_type": "stream",
     "text": [
      "alarm-notifier-app-5811d3471a5\n",
      "alarm-notifier-app-db507b128d5\n"
     ]
    }
   ],
   "source": [
    "fn apps list"
   ]
  },
  {
   "cell_type": "code",
   "execution_count": 14,
   "metadata": {},
   "outputs": [
    {
     "name": "stdout",
     "output_type": "stream",
     "text": [
      "path\timage\tendpoint\n",
      "/hello\tiron/hello\n"
     ]
    }
   ],
   "source": [
    "fn routes list $func_name"
   ]
  },
  {
   "cell_type": "code",
   "execution_count": 15,
   "metadata": {},
   "outputs": [
    {
     "name": "stdout",
     "output_type": "stream",
     "text": [
      "{\"call_id\":\"687e0b49-c8b0-5343-b6dd-c795494810d9\"}\n"
     ]
    }
   ],
   "source": [
    "fn routes call $func_name /hello"
   ]
  },
  {
   "cell_type": "code",
   "execution_count": 16,
   "metadata": {},
   "outputs": [
    {
     "name": "stdout",
     "output_type": "stream",
     "text": [
      "Mar  9 12:58:53 kvm526 functions: time=\"2017-03-09T12:58:53+09:00\" level=debug msg=\"Finding route on datastore\" action=\"server.handleRunnerRequest)-fm\" app=alarm-notifier-app-5811d3471a5 call_id=687e0b49-c8b0-5343-b6dd-c795494810d9 path=\"/hello\" route=\"/hello\"\n",
      "Mar  9 12:58:53 kvm526 functions: time=\"2017-03-09T12:58:53+09:00\" level=debug msg=\"Got routes from datastore\" action=\"server.handleRunnerRequest)-fm\" app=alarm-notifier-app-5811d3471a5 call_id=687e0b49-c8b0-5343-b6dd-c795494810d9 route=\"/hello\" routes=1\n",
      "Mar  9 12:58:53 kvm526 functions: time=\"2017-03-09T12:58:53+09:00\" level=info msg=\"Pushed to MQ\" call_id=687e0b49-c8b0-5343-b6dd-c795494810d9\n",
      "Mar  9 12:58:53 kvm526 functions: time=\"2017-03-09T12:58:53+09:00\" level=info msg=\"Added new task to queue\" action=\"server.handleRunnerRequest)-fm\" app=alarm-notifier-app-5811d3471a5 call_id=687e0b49-c8b0-5343-b6dd-c795494810d9 image=\"iron/hello\" route=\"/hello\"\n",
      "Mar  9 12:58:54 kvm526 functions: time=\"2017-03-09T12:58:54+09:00\" level=info msg=Reserved call_id=687e0b49-c8b0-5343-b6dd-c795494810d9\n",
      "Mar  9 12:58:54 kvm526 functions: time=\"2017-03-09T12:58:54+09:00\" level=debug msg=\"Running task:687e0b49-c8b0-5343-b6dd-c795494810d9\" call_id=687e0b49-c8b0-5343-b6dd-c795494810d9 runner=async\n",
      "Mar  9 12:58:54 kvm526 functions: time=\"2017-03-09T12:58:54+09:00\" level=debug msg=\"Processed task\" call_id=687e0b49-c8b0-5343-b6dd-c795494810d9 runner=async\n",
      "Mar  9 12:58:54 kvm526 functions: time=\"2017-03-09T12:58:54+09:00\" level=info call_id=687e0b49-c8b0-5343-b6dd-c795494810d9 name=run.alarm-notifier-app-5811d3471a5.requests runner=async type=count value=1\n",
      "Mar  9 12:58:54 kvm526 functions: time=\"2017-03-09T12:58:54+09:00\" level=info call_id=687e0b49-c8b0-5343-b6dd-c795494810d9 name=run.alarm-notifier-app-5811d3471a5.waittime runner=async type=time value=0s\n",
      "Mar  9 12:58:54 kvm526 functions: time=\"2017-03-09T12:58:54+09:00\" level=info msg=Deleted call_id=687e0b49-c8b0-5343-b6dd-c795494810d9\n",
      "Mar  9 12:58:54 kvm526 functions: time=\"2017-03-09T12:58:54+09:00\" level=info msg=\"Task complete\" call_id=687e0b49-c8b0-5343-b6dd-c795494810d9 runner=async\n",
      "Mar  9 12:58:54 kvm526 functions: time=\"2017-03-09T12:58:54+09:00\" level=debug msg=\"Starting container execution\" call_id=687e0b49-c8b0-5343-b6dd-c795494810d9 container=task-1489031934146309343-687e0b49-c8b0-5343-b6dd-c795494810d9 runner=async\n",
      "Mar  9 12:58:55 kvm526 functions: time=\"2017-03-09T12:58:55+09:00\" level=info msg=\"Hello World!\" app_name=alarm-notifier-app-5811d3471a5 call_id=687e0b49-c8b0-5343-b6dd-c795494810d9 image=\"iron/hello\" path= runner=async user_log=true\n",
      "Mar  9 12:58:56 kvm526 functions: time=\"2017-03-09T12:58:56+09:00\" level=info msg=\"container status\" call_id=687e0b49-c8b0-5343-b6dd-c795494810d9 container_error= container_finished=2017-03-09 03:58:55.550878129 +0000 UTC container_running=false container_status=exited exit_code=0 runner=async\n",
      "Mar  9 12:58:56 kvm526 functions: time=\"2017-03-09T12:58:56+09:00\" level=info call_id=687e0b49-c8b0-5343-b6dd-c795494810d9 name=run.alarm-notifier-app-5811d3471a5.succeeded runner=async type=count value=1\n",
      "Mar  9 12:58:56 kvm526 functions: time=\"2017-03-09T12:58:56+09:00\" level=info call_id=687e0b49-c8b0-5343-b6dd-c795494810d9 name=run.alarm-notifier-app-5811d3471a5.time runner=async type=time value=1.309805044s\n",
      "Mar  9 12:58:56 kvm526 functions: time=\"2017-03-09T12:58:56+09:00\" level=info call_id=687e0b49-c8b0-5343-b6dd-c795494810d9 name=\"run.exec_time\" runner=async type=time value=1.309805044s\n"
     ]
    }
   ],
   "source": [
    "sudo grep 687e0b49-c8b0-5343-b6dd-c795494810d9 /var/log/messages "
   ]
  },
  {
   "cell_type": "markdown",
   "metadata": {},
   "source": [
    "## How to create functions\n",
    "\n",
    "```\n",
    "export DOCKER_HOST=tcp://localhost:2375\n",
    "\n",
    "mkdir ~/picasso-func ; cd ~/picasso-func\n",
    "vi func.go\n",
    "```\n",
    "\n",
    "func.go:\n",
    "```\n",
    "package main\n",
    "\n",
    "import (\n",
    "    \"encoding/json\"\n",
    "    \"fmt\"\n",
    "    \"os\"\n",
    ")\n",
    "\n",
    "type Person struct {\n",
    "    Name string\n",
    "}\n",
    "\n",
    "func main() {\n",
    "    p := &Person{Name: \"World\"}\n",
    "    json.NewDecoder(os.Stdin).Decode(p)\n",
    "    fmt.Printf(\"Hello %v!\", p.Name)\n",
    "}\n",
    "```\n",
    "\n",
    "```\n",
    "fn init testuser/hello\n",
    "fn build\n",
    "fn run\n",
    "fn build && fn push\n",
    "fn apps create myapp\n",
    "fn routes create myapp /hello\n",
    "```"
   ]
  },
  {
   "cell_type": "code",
   "execution_count": 18,
   "metadata": {},
   "outputs": [
    {
     "name": "stdout",
     "output_type": "stream",
     "text": [
      "REPOSITORY          TAG                 IMAGE ID            CREATED             SIZE\n",
      "testuser/hello      0.0.1               d2a63df5a52d        5 minutes ago       12.6 MB\n",
      "picasso-api         latest              f8aa15239468        2 hours ago         791 MB\n",
      "<none>              <none>              60be38a5d6e7        20 hours ago        791 MB\n",
      "<none>              <none>              dbf4f0595bb5        24 hours ago        791 MB\n",
      "<none>              <none>              42a97c056272        26 hours ago        791 MB\n",
      "<none>              <none>              d719aa45609a        26 hours ago        791 MB\n",
      "python              3.5                 4e5ed9f6613e        8 days ago          687 MB\n",
      "iron/go             dev                 3d25645a73f8        2 weeks ago         857 MB\n",
      "iron/hello          latest              f4dd2a73dac8        4 months ago        12.1 MB\n",
      "iron/go             latest              c05f82fa066a        12 months ago       10.5 MB\n"
     ]
    }
   ],
   "source": [
    "export DOCKER_HOST=tcp://localhost:2375\n",
    "docker images"
   ]
  },
  {
   "cell_type": "code",
   "execution_count": 19,
   "metadata": {},
   "outputs": [
    {
     "name": "stdout",
     "output_type": "stream",
     "text": [
      "Hello World!"
     ]
    }
   ],
   "source": [
    "curl $API_URL/r/myapp/hello"
   ]
  },
  {
   "cell_type": "code",
   "execution_count": 20,
   "metadata": {},
   "outputs": [
    {
     "name": "stdout",
     "output_type": "stream",
     "text": [
      "alarm-notifier-app-5811d3471a5\n",
      "alarm-notifier-app-db507b128d5\n",
      "myapp\n"
     ]
    }
   ],
   "source": [
    "fn apps list"
   ]
  },
  {
   "cell_type": "code",
   "execution_count": 21,
   "metadata": {},
   "outputs": [
    {
     "name": "stdout",
     "output_type": "stream",
     "text": [
      "path\timage\tendpoint\n",
      "/hello\ttestuser/hello:0.0.1\n"
     ]
    }
   ],
   "source": [
    "fn routes  list myapp"
   ]
  },
  {
   "cell_type": "code",
   "execution_count": null,
   "metadata": {
    "collapsed": true
   },
   "outputs": [],
   "source": []
  }
 ],
 "metadata": {
  "kernelspec": {
   "display_name": "Bash",
   "language": "bash",
   "name": "bash"
  },
  "language_info": {
   "codemirror_mode": "shell",
   "file_extension": ".sh",
   "mimetype": "text/x-sh",
   "name": "bash"
  }
 },
 "nbformat": 4,
 "nbformat_minor": 2
}
